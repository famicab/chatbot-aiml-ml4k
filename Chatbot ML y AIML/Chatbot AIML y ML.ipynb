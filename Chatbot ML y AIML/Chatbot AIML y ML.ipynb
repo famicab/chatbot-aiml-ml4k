{
 "cells": [
  {
   "cell_type": "code",
   "execution_count": 1,
   "id": "b9b6f052",
   "metadata": {},
   "outputs": [],
   "source": [
    "# %pip install response"
   ]
  },
  {
   "cell_type": "code",
   "execution_count": 2,
   "id": "c63fa13f",
   "metadata": {},
   "outputs": [],
   "source": [
    "import requests\n",
    "\n",
    "# This function will pass your text to the machine learning model\n",
    "# and return the top result with the highest confidence\n",
    "def classify(text):\n",
    "    key = \"cd419ec0-749d-11ec-9ed4-a70226fed41e14d9ed64-3645-4a5a-843b-88b9307dc2e3\"\n",
    "    url = \"https://machinelearningforkids.co.uk/api/scratch/\"+ key + \"/classify\"\n",
    "\n",
    "    response = requests.get(url, params={ \"data\" : text })\n",
    "\n",
    "    if response.ok:\n",
    "        responseData = response.json()\n",
    "        topMatch = responseData[0]\n",
    "        return topMatch\n",
    "    else:\n",
    "        response.raise_for_status()"
   ]
  },
  {
   "cell_type": "code",
   "execution_count": 3,
   "id": "c0304a6f",
   "metadata": {},
   "outputs": [],
   "source": [
    "def get_pattern():\n",
    "    question = input(\">\")\n",
    "    answer = classify(question)\n",
    "    return answer\n",
    "    "
   ]
  },
  {
   "cell_type": "code",
   "execution_count": 4,
   "id": "3aaf248b",
   "metadata": {},
   "outputs": [],
   "source": [
    "from programy.clients.embed.datafile import EmbeddedDataFileBot\n",
    "\n",
    "chatbot = EmbeddedDataFileBot(files={'aiml':['files'],\n",
    "                                    }, defaults=True)"
   ]
  },
  {
   "cell_type": "code",
   "execution_count": null,
   "id": "a65d1dc6",
   "metadata": {},
   "outputs": [
    {
     "name": "stdout",
     "output_type": "stream",
     "text": [
      ">Hola\n",
      "Hola. ¿Necesitas ayuda?\n",
      ">Si, necesito ayuda\n",
      "He sido entrenado para darte información sobre las líneas de autobuses de\n",
      "Sevilla y los diferentes titulos/tarjetas disponibles.\n",
      ">Dime que lineas hay disponibles\n",
      "Actualmente tengo información sobre las lineas 1\n",
      "2\n",
      " 3\n",
      "5 y 6. Las demás se\n",
      "añadirán en funciones futuras. ¿Sobre cual de ellas quieres información?\n",
      ">Que paradas tiene la linea  3?\n",
      "Línea 3. Bellavista-S. Jeronimo-Pino Montano Horario: 06:00 - 00:42 Trayecto:\n",
      "Ctra. Isla Menor (Inst. La Grasa)\n",
      "Avenida Bellavista (Hospital de Valme)\n",
      "Avda.\n",
      "Bellavista (Asensio y Toledo)\n",
      "Avda. Jerez (Jardines de Hércules)\n",
      "Av. jerez (P.I.\n",
      "Pineda)\n",
      "Avda. Alemania (Estrasburgo)\n",
      "Paseo de Europa (Lyon)\n",
      "Dr. Fleming (Est.\n",
      "Benito Villamarín)\n",
      "Reina Mercedes (Gta. Alc. Parias Merry)\n",
      "Reina Mercedes\n",
      "(Escuela de Arquitectura)\n",
      "La Palmera (Bueno Monreal)\n",
      "Paseo las Delicias (Glta.\n",
      "Marineros)\n",
      "Paseo Colón (Jardines Cristina)\n",
      "Marques de Paradas\n",
      "Torneo (Estacion\n",
      "Plaza de Armas)\n",
      "Torneo (San Lorenzo)\n",
      "Concejal Jiménez Becerril\n",
      "(Barqueta)\n",
      "Concejal Jiménez Becerril (José Díaz)\n",
      "Concej. Jiménez Becerril (Gta.\n",
      "Olímpica)\n",
      "José Galán Merino (Cantina)\n",
      "José Galán Merino (Alcalá del Río)\n",
      "Navarra\n",
      "(Larache)\n",
      "Cataluña (Parroquia San Jerónimo)\n",
      "Medina y Galnares (frt. Centro\n",
      "Salud)\n",
      "Biologia (frente El Higueron)\n",
      "Gta. Oceanografica (Parque Emp.\n",
      "Torneo)\n",
      "Estrella Canopus\n",
      "Agricultores (Sembradores)\n",
      "Agricultores\n",
      "(Garrochistas)\n",
      "¿Puedo ayudarte en algo más?\n",
      ">Si, hablame sobre las tarjetas disponibles\n",
      "Puedo darte información sobre los siguientes títulos: Billete univiaje\n",
      "Tarjeta\n",
      "multiviaje\n",
      "Tarjeta turística\n",
      "Tarjeta 30 días\n",
      "Tarjeta anual\n",
      "Tarjeta\n",
      "estudiante\n",
      "¿Quieres información sobre alguno?\n",
      ">Si, como funciona la tarjeta estudiante?\n",
      "Esta tarjeta tiene validez entre el 1 de septiembre y el 31 de julio del año\n",
      "siguiente. Puedes pagar 190€ en dos plazos y tenerla activa todos los meses o\n",
      "pagarla mes a mes\n",
      " con un costo de 19€ cada vez. ¿Puedo ayudarte en algo más?\n",
      ">Si, hablame sobre la linea C1\n",
      "Disculpa, no te he entendido bien. Si quieres que te ayude dime \"Necesito ayuda\"\n"
     ]
    }
   ],
   "source": [
    "try:\n",
    "    while True:\n",
    "        pattern = get_pattern()\n",
    "        class_name = pattern[\"class_name\"]\n",
    "        if pattern[\"confidence\"]>65:\n",
    "            #class_name = \"Ayuda\"\n",
    "            answer = chatbot.ask_question(class_name)\n",
    "            if (answer.__contains__(\",\")):\n",
    "                txt = answer.split(\",\")\n",
    "                for i in txt:\n",
    "                    print(i)\n",
    "            else:\n",
    "                print(answer)\n",
    "            #print(chatbot.ask_question(class_name))\n",
    "        else:\n",
    "            print(\"Disculpa, no te he entendido bien. Si quieres que te ayude dime \\\"Necesito ayuda\\\"\")\n",
    "except:\n",
    "    pass    "
   ]
  }
 ],
 "metadata": {
  "kernelspec": {
   "display_name": "Python 3 (ipykernel)",
   "language": "python",
   "name": "python3"
  },
  "language_info": {
   "codemirror_mode": {
    "name": "ipython",
    "version": 3
   },
   "file_extension": ".py",
   "mimetype": "text/x-python",
   "name": "python",
   "nbconvert_exporter": "python",
   "pygments_lexer": "ipython3",
   "version": "3.9.7"
  }
 },
 "nbformat": 4,
 "nbformat_minor": 5
}
